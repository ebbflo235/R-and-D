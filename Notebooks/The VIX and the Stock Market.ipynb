{
 "cells": [
  {
   "cell_type": "markdown",
   "metadata": {},
   "source": [
    "# Ebb & Flow"
   ]
  },
  {
   "cell_type": "markdown",
   "metadata": {},
   "source": [
    "This will be the first in a series of documents that looks to use mathematics in philosphical reasoning with application to the financial markets. More specifically, the purpose of this journal will be to explore investment ideas and test their merit by performing simple quantitative analysis.\n",
    "\n",
    "Please note the word \"simple\". I will make a concerted effort to reason with common sense and use intuition as a guiding principle in my research. I will look to avoid overfitting data and perhaps even more importantly, overfitting perception.\n",
    "\n",
    "__Throughout my research, there will be a lack of findings at least as often as there are significant findings__. This is to be expected in financial research. In statistical terms, we can think of a lack of findings as accepting the null hypothesis.\n",
    "\n",
    "\n",
    "Lets get started:"
   ]
  },
  {
   "cell_type": "markdown",
   "metadata": {},
   "source": [
    "## The VIX and the Stock Market"
   ]
  },
  {
   "cell_type": "markdown",
   "metadata": {},
   "source": [
    "It is a widely established belief that that there is a strong negative relationship between the Volatility Index and the stock market. Before we dive into the specifics of what exactly this means, lets use the S&P 500 to represent our stock universe and calculate daily returns of the SP500: "
   ]
  },
  {
   "cell_type": "code",
   "execution_count": 120,
   "metadata": {},
   "outputs": [
    {
     "data": {
      "text/html": [
       "<div>\n",
       "<style scoped>\n",
       "    .dataframe tbody tr th:only-of-type {\n",
       "        vertical-align: middle;\n",
       "    }\n",
       "\n",
       "    .dataframe tbody tr th {\n",
       "        vertical-align: top;\n",
       "    }\n",
       "\n",
       "    .dataframe thead th {\n",
       "        text-align: right;\n",
       "    }\n",
       "</style>\n",
       "<table border=\"1\" class=\"dataframe\">\n",
       "  <thead>\n",
       "    <tr style=\"text-align: right;\">\n",
       "      <th></th>\n",
       "      <th>SP500</th>\n",
       "      <th>VIX</th>\n",
       "      <th>SP500_ret</th>\n",
       "    </tr>\n",
       "    <tr>\n",
       "      <th>DATE</th>\n",
       "      <th></th>\n",
       "      <th></th>\n",
       "      <th></th>\n",
       "    </tr>\n",
       "  </thead>\n",
       "  <tbody>\n",
       "    <tr>\n",
       "      <th>2/12/2008</th>\n",
       "      <td>1348.86</td>\n",
       "      <td>26.33</td>\n",
       "      <td>0.007266</td>\n",
       "    </tr>\n",
       "    <tr>\n",
       "      <th>2/13/2008</th>\n",
       "      <td>1367.21</td>\n",
       "      <td>24.88</td>\n",
       "      <td>0.013604</td>\n",
       "    </tr>\n",
       "    <tr>\n",
       "      <th>2/14/2008</th>\n",
       "      <td>1348.86</td>\n",
       "      <td>25.54</td>\n",
       "      <td>-0.013421</td>\n",
       "    </tr>\n",
       "    <tr>\n",
       "      <th>2/15/2008</th>\n",
       "      <td>1349.99</td>\n",
       "      <td>25.02</td>\n",
       "      <td>0.000838</td>\n",
       "    </tr>\n",
       "    <tr>\n",
       "      <th>2/19/2008</th>\n",
       "      <td>1348.78</td>\n",
       "      <td>25.59</td>\n",
       "      <td>-0.000896</td>\n",
       "    </tr>\n",
       "  </tbody>\n",
       "</table>\n",
       "</div>"
      ],
      "text/plain": [
       "             SP500    VIX  SP500_ret\n",
       "DATE                                \n",
       "2/12/2008  1348.86  26.33   0.007266\n",
       "2/13/2008  1367.21  24.88   0.013604\n",
       "2/14/2008  1348.86  25.54  -0.013421\n",
       "2/15/2008  1349.99  25.02   0.000838\n",
       "2/19/2008  1348.78  25.59  -0.000896"
      ]
     },
     "execution_count": 120,
     "metadata": {},
     "output_type": "execute_result"
    }
   ],
   "source": [
    "import pandas as p\n",
    "\n",
    "csv = \"vixcurrent.csv\"\n",
    "vix = p.read_csv(csv, index_col=0).iloc[:,0:2]\n",
    "vix = vix[vix.VIX != 0]\n",
    "vix.tail(n=5)\n",
    "\n",
    "vix = vix.astype(float)\n",
    "vix['SP500_ret'] = vix['SP500']/vix['SP500'].shift(1)-1\n",
    "vix = vix.iloc[1:len(vix)]\n",
    "vix.head(n=5)"
   ]
  },
  {
   "cell_type": "markdown",
   "metadata": {},
   "source": [
    "Lets look at the relationship between the level of the VIX and the daily return of the SP500 using a simple linear regression:"
   ]
  },
  {
   "cell_type": "code",
   "execution_count": 121,
   "metadata": {},
   "outputs": [
    {
     "data": {
      "text/html": [
       "<table class=\"simpletable\">\n",
       "<caption>OLS Regression Results</caption>\n",
       "<tr>\n",
       "  <th>Dep. Variable:</th>        <td>SP500_ret</td>    <th>  R-squared:         </th>  <td>   0.017</td> \n",
       "</tr>\n",
       "<tr>\n",
       "  <th>Model:</th>                   <td>OLS</td>       <th>  Adj. R-squared:    </th>  <td>   0.017</td> \n",
       "</tr>\n",
       "<tr>\n",
       "  <th>Method:</th>             <td>Least Squares</td>  <th>  F-statistic:       </th>  <td>   43.41</td> \n",
       "</tr>\n",
       "<tr>\n",
       "  <th>Date:</th>             <td>Thu, 22 Feb 2018</td> <th>  Prob (F-statistic):</th>  <td>5.40e-11</td> \n",
       "</tr>\n",
       "<tr>\n",
       "  <th>Time:</th>                 <td>19:33:01</td>     <th>  Log-Likelihood:    </th>  <td>  7415.9</td> \n",
       "</tr>\n",
       "<tr>\n",
       "  <th>No. Observations:</th>      <td>  2518</td>      <th>  AIC:               </th> <td>-1.483e+04</td>\n",
       "</tr>\n",
       "<tr>\n",
       "  <th>Df Residuals:</th>          <td>  2516</td>      <th>  BIC:               </th> <td>-1.482e+04</td>\n",
       "</tr>\n",
       "<tr>\n",
       "  <th>Df Model:</th>              <td>     1</td>      <th>                     </th>      <td> </td>    \n",
       "</tr>\n",
       "<tr>\n",
       "  <th>Covariance Type:</th>      <td>nonrobust</td>    <th>                     </th>      <td> </td>    \n",
       "</tr>\n",
       "</table>\n",
       "<table class=\"simpletable\">\n",
       "<tr>\n",
       "    <td></td>       <th>coef</th>     <th>std err</th>      <th>t</th>      <th>P>|t|</th>  <th>[0.025</th>    <th>0.975]</th>  \n",
       "</tr>\n",
       "<tr>\n",
       "  <th>const</th> <td>    0.0037</td> <td>    0.001</td> <td>    6.507</td> <td> 0.000</td> <td>    0.003</td> <td>    0.005</td>\n",
       "</tr>\n",
       "<tr>\n",
       "  <th>VIX</th>   <td>   -0.0002</td> <td> 2.54e-05</td> <td>   -6.588</td> <td> 0.000</td> <td>   -0.000</td> <td>   -0.000</td>\n",
       "</tr>\n",
       "</table>\n",
       "<table class=\"simpletable\">\n",
       "<tr>\n",
       "  <th>Omnibus:</th>       <td>645.389</td> <th>  Durbin-Watson:     </th> <td>   2.195</td> \n",
       "</tr>\n",
       "<tr>\n",
       "  <th>Prob(Omnibus):</th> <td> 0.000</td>  <th>  Jarque-Bera (JB):  </th> <td>16051.100</td>\n",
       "</tr>\n",
       "<tr>\n",
       "  <th>Skew:</th>          <td> 0.631</td>  <th>  Prob(JB):          </th> <td>    0.00</td> \n",
       "</tr>\n",
       "<tr>\n",
       "  <th>Kurtosis:</th>      <td>15.304</td>  <th>  Cond. No.          </th> <td>    49.9</td> \n",
       "</tr>\n",
       "</table>"
      ],
      "text/plain": [
       "<class 'statsmodels.iolib.summary.Summary'>\n",
       "\"\"\"\n",
       "                            OLS Regression Results                            \n",
       "==============================================================================\n",
       "Dep. Variable:              SP500_ret   R-squared:                       0.017\n",
       "Model:                            OLS   Adj. R-squared:                  0.017\n",
       "Method:                 Least Squares   F-statistic:                     43.41\n",
       "Date:                Thu, 22 Feb 2018   Prob (F-statistic):           5.40e-11\n",
       "Time:                        19:33:01   Log-Likelihood:                 7415.9\n",
       "No. Observations:                2518   AIC:                        -1.483e+04\n",
       "Df Residuals:                    2516   BIC:                        -1.482e+04\n",
       "Df Model:                           1                                         \n",
       "Covariance Type:            nonrobust                                         \n",
       "==============================================================================\n",
       "                 coef    std err          t      P>|t|      [0.025      0.975]\n",
       "------------------------------------------------------------------------------\n",
       "const          0.0037      0.001      6.507      0.000       0.003       0.005\n",
       "VIX           -0.0002   2.54e-05     -6.588      0.000      -0.000      -0.000\n",
       "==============================================================================\n",
       "Omnibus:                      645.389   Durbin-Watson:                   2.195\n",
       "Prob(Omnibus):                  0.000   Jarque-Bera (JB):            16051.100\n",
       "Skew:                           0.631   Prob(JB):                         0.00\n",
       "Kurtosis:                      15.304   Cond. No.                         49.9\n",
       "==============================================================================\n",
       "\n",
       "Warnings:\n",
       "[1] Standard Errors assume that the covariance matrix of the errors is correctly specified.\n",
       "\"\"\""
      ]
     },
     "execution_count": 121,
     "metadata": {},
     "output_type": "execute_result"
    },
    {
     "data": {
      "image/png": "[encoded data removed]",
      "text/plain": [
       "<matplotlib.figure.Figure at 0x7fd9b95e54a8>"
      ]
     },
     "metadata": {},
     "output_type": "display_data"
    }
   ],
   "source": [
    "import statsmodels.api as sm\n",
    "import seaborn as graph\n",
    "\n",
    "Y = vix['SP500_ret']\n",
    "X = vix['VIX']\n",
    "graph.regplot(X,Y).set_title(\"SP500 Returns Regressed on Vix Level\") #seaborn adds constant automatically\n",
    "\n",
    "X = sm.add_constant(X) # in statsmodels, a constant needs to be added\n",
    "ols_model = sm.OLS(Y,X)\n",
    "results = ols_model.fit()\n",
    "results.summary()"
   ]
  },
  {
   "cell_type": "markdown",
   "metadata": {},
   "source": [
    "At least on a daily basis, we can infer from the results above that the level of the VIX explains little to none of SP500 return. Now, indead of looking at the level of the VIX, lets look at the change in the level of the VIX which I will refer to as Delta_VIX:"
   ]
  },
  {
   "cell_type": "code",
   "execution_count": 122,
   "metadata": {},
   "outputs": [
    {
     "data": {
      "text/html": [
       "<table class=\"simpletable\">\n",
       "<caption>OLS Regression Results</caption>\n",
       "<tr>\n",
       "  <th>Dep. Variable:</th>        <td>SP500_ret</td>    <th>  R-squared:         </th>  <td>   0.694</td> \n",
       "</tr>\n",
       "<tr>\n",
       "  <th>Model:</th>                   <td>OLS</td>       <th>  Adj. R-squared:    </th>  <td>   0.694</td> \n",
       "</tr>\n",
       "<tr>\n",
       "  <th>Method:</th>             <td>Least Squares</td>  <th>  F-statistic:       </th>  <td>   5697.</td> \n",
       "</tr>\n",
       "<tr>\n",
       "  <th>Date:</th>             <td>Thu, 22 Feb 2018</td> <th>  Prob (F-statistic):</th>   <td>  0.00</td>  \n",
       "</tr>\n",
       "<tr>\n",
       "  <th>Time:</th>                 <td>19:33:05</td>     <th>  Log-Likelihood:    </th>  <td>  8880.4</td> \n",
       "</tr>\n",
       "<tr>\n",
       "  <th>No. Observations:</th>      <td>  2517</td>      <th>  AIC:               </th> <td>-1.776e+04</td>\n",
       "</tr>\n",
       "<tr>\n",
       "  <th>Df Residuals:</th>          <td>  2515</td>      <th>  BIC:               </th> <td>-1.775e+04</td>\n",
       "</tr>\n",
       "<tr>\n",
       "  <th>Df Model:</th>              <td>     1</td>      <th>                     </th>      <td> </td>    \n",
       "</tr>\n",
       "<tr>\n",
       "  <th>Covariance Type:</th>      <td>nonrobust</td>    <th>                     </th>      <td> </td>    \n",
       "</tr>\n",
       "</table>\n",
       "<table class=\"simpletable\">\n",
       "<tr>\n",
       "      <td></td>         <th>coef</th>     <th>std err</th>      <th>t</th>      <th>P>|t|</th>  <th>[0.025</th>    <th>0.975]</th>  \n",
       "</tr>\n",
       "<tr>\n",
       "  <th>const</th>     <td>    0.0004</td> <td>    0.000</td> <td>    2.486</td> <td> 0.013</td> <td> 7.44e-05</td> <td>    0.001</td>\n",
       "</tr>\n",
       "<tr>\n",
       "  <th>Delta_VIX</th> <td>   -0.0054</td> <td> 7.19e-05</td> <td>  -75.480</td> <td> 0.000</td> <td>   -0.006</td> <td>   -0.005</td>\n",
       "</tr>\n",
       "</table>\n",
       "<table class=\"simpletable\">\n",
       "<tr>\n",
       "  <th>Omnibus:</th>       <td>512.841</td> <th>  Durbin-Watson:     </th> <td>   2.150</td> \n",
       "</tr>\n",
       "<tr>\n",
       "  <th>Prob(Omnibus):</th> <td> 0.000</td>  <th>  Jarque-Bera (JB):  </th> <td>12822.177</td>\n",
       "</tr>\n",
       "<tr>\n",
       "  <th>Skew:</th>          <td> 0.308</td>  <th>  Prob(JB):          </th> <td>    0.00</td> \n",
       "</tr>\n",
       "<tr>\n",
       "  <th>Kurtosis:</th>      <td>14.040</td>  <th>  Cond. No.          </th> <td>    1.97</td> \n",
       "</tr>\n",
       "</table>"
      ],
      "text/plain": [
       "<class 'statsmodels.iolib.summary.Summary'>\n",
       "\"\"\"\n",
       "                            OLS Regression Results                            \n",
       "==============================================================================\n",
       "Dep. Variable:              SP500_ret   R-squared:                       0.694\n",
       "Model:                            OLS   Adj. R-squared:                  0.694\n",
       "Method:                 Least Squares   F-statistic:                     5697.\n",
       "Date:                Thu, 22 Feb 2018   Prob (F-statistic):               0.00\n",
       "Time:                        19:33:05   Log-Likelihood:                 8880.4\n",
       "No. Observations:                2517   AIC:                        -1.776e+04\n",
       "Df Residuals:                    2515   BIC:                        -1.775e+04\n",
       "Df Model:                           1                                         \n",
       "Covariance Type:            nonrobust                                         \n",
       "==============================================================================\n",
       "                 coef    std err          t      P>|t|      [0.025      0.975]\n",
       "------------------------------------------------------------------------------\n",
       "const          0.0004      0.000      2.486      0.013    7.44e-05       0.001\n",
       "Delta_VIX     -0.0054   7.19e-05    -75.480      0.000      -0.006      -0.005\n",
       "==============================================================================\n",
       "Omnibus:                      512.841   Durbin-Watson:                   2.150\n",
       "Prob(Omnibus):                  0.000   Jarque-Bera (JB):            12822.177\n",
       "Skew:                           0.308   Prob(JB):                         0.00\n",
       "Kurtosis:                      14.040   Cond. No.                         1.97\n",
       "==============================================================================\n",
       "\n",
       "Warnings:\n",
       "[1] Standard Errors assume that the covariance matrix of the errors is correctly specified.\n",
       "\"\"\""
      ]
     },
     "execution_count": 122,
     "metadata": {},
     "output_type": "execute_result"
    },
    {
     "data": {
      "image/png": "[encoded data removed]",
      "text/plain": [
       "<matplotlib.figure.Figure at 0x7fd9b9876978>"
      ]
     },
     "metadata": {},
     "output_type": "display_data"
    }
   ],
   "source": [
    "vix['Delta_VIX'] = vix['VIX'] - vix['VIX'].shift(1)\n",
    "vix = vix.iloc[1:len(vix)]\n",
    "\n",
    "Y = vix['SP500_ret']\n",
    "X = vix['Delta_VIX']\n",
    "graph.regplot(X,Y).set_title(\"SP500 Returns Regressed on Change in VIX\")\n",
    "\n",
    "X = sm.add_constant(X)\n",
    "ols_model = sm.OLS(Y,X)\n",
    "results = ols_model.fit()\n",
    "results.summary()"
   ]
  },
  {
   "cell_type": "markdown",
   "metadata": {},
   "source": [
    "Here we see a lot more significance. Roughly speaking, in our sample, 70 percent of the variability in SP500 returns can be explained by Delta_VIX. While this is a very interesting inference, it does not help us PREDICT the return of the SP500. \n",
    "\n",
    "In order to predict the SP500 return with this inference we must either 1) have a way of predicting volatility which will in turn help us predict direction due to the relationship or 2) somehow lag the data and analyze how a change in a previous period VIX level (Delta_VIX) will predict the current SP500 return.\n",
    "\n",
    "Lets start with number 2 since it will be the easiest first step. Lets lag Delta_VIX and see how it performs as a predictor of next period returns:"
   ]
  },
  {
   "cell_type": "code",
   "execution_count": 123,
   "metadata": {},
   "outputs": [
    {
     "data": {
      "text/html": [
       "<table class=\"simpletable\">\n",
       "<caption>OLS Regression Results</caption>\n",
       "<tr>\n",
       "  <th>Dep. Variable:</th>        <td>SP500_ret</td>    <th>  R-squared:         </th>  <td>   0.009</td> \n",
       "</tr>\n",
       "<tr>\n",
       "  <th>Model:</th>                   <td>OLS</td>       <th>  Adj. R-squared:    </th>  <td>   0.008</td> \n",
       "</tr>\n",
       "<tr>\n",
       "  <th>Method:</th>             <td>Least Squares</td>  <th>  F-statistic:       </th>  <td>   22.50</td> \n",
       "</tr>\n",
       "<tr>\n",
       "  <th>Date:</th>             <td>Thu, 22 Feb 2018</td> <th>  Prob (F-statistic):</th>  <td>2.22e-06</td> \n",
       "</tr>\n",
       "<tr>\n",
       "  <th>Time:</th>                 <td>19:33:14</td>     <th>  Log-Likelihood:    </th>  <td>  7399.4</td> \n",
       "</tr>\n",
       "<tr>\n",
       "  <th>No. Observations:</th>      <td>  2516</td>      <th>  AIC:               </th> <td>-1.479e+04</td>\n",
       "</tr>\n",
       "<tr>\n",
       "  <th>Df Residuals:</th>          <td>  2514</td>      <th>  BIC:               </th> <td>-1.478e+04</td>\n",
       "</tr>\n",
       "<tr>\n",
       "  <th>Df Model:</th>              <td>     1</td>      <th>                     </th>      <td> </td>    \n",
       "</tr>\n",
       "<tr>\n",
       "  <th>Covariance Type:</th>      <td>nonrobust</td>    <th>                     </th>      <td> </td>    \n",
       "</tr>\n",
       "</table>\n",
       "<table class=\"simpletable\">\n",
       "<tr>\n",
       "        <td></td>           <th>coef</th>     <th>std err</th>      <th>t</th>      <th>P>|t|</th>  <th>[0.025</th>    <th>0.975]</th>  \n",
       "</tr>\n",
       "<tr>\n",
       "  <th>const</th>         <td>    0.0003</td> <td>    0.000</td> <td>    1.331</td> <td> 0.183</td> <td>   -0.000</td> <td>    0.001</td>\n",
       "</tr>\n",
       "<tr>\n",
       "  <th>Delta_VIX_lag</th> <td>    0.0006</td> <td>    0.000</td> <td>    4.743</td> <td> 0.000</td> <td>    0.000</td> <td>    0.001</td>\n",
       "</tr>\n",
       "</table>\n",
       "<table class=\"simpletable\">\n",
       "<tr>\n",
       "  <th>Omnibus:</th>       <td>500.015</td> <th>  Durbin-Watson:     </th> <td>   2.064</td> \n",
       "</tr>\n",
       "<tr>\n",
       "  <th>Prob(Omnibus):</th> <td> 0.000</td>  <th>  Jarque-Bera (JB):  </th> <td>13580.762</td>\n",
       "</tr>\n",
       "<tr>\n",
       "  <th>Skew:</th>          <td>-0.208</td>  <th>  Prob(JB):          </th> <td>    0.00</td> \n",
       "</tr>\n",
       "<tr>\n",
       "  <th>Kurtosis:</th>      <td>14.374</td>  <th>  Cond. No.          </th> <td>    1.97</td> \n",
       "</tr>\n",
       "</table>"
      ],
      "text/plain": [
       "<class 'statsmodels.iolib.summary.Summary'>\n",
       "\"\"\"\n",
       "                            OLS Regression Results                            \n",
       "==============================================================================\n",
       "Dep. Variable:              SP500_ret   R-squared:                       0.009\n",
       "Model:                            OLS   Adj. R-squared:                  0.008\n",
       "Method:                 Least Squares   F-statistic:                     22.50\n",
       "Date:                Thu, 22 Feb 2018   Prob (F-statistic):           2.22e-06\n",
       "Time:                        19:33:14   Log-Likelihood:                 7399.4\n",
       "No. Observations:                2516   AIC:                        -1.479e+04\n",
       "Df Residuals:                    2514   BIC:                        -1.478e+04\n",
       "Df Model:                           1                                         \n",
       "Covariance Type:            nonrobust                                         \n",
       "=================================================================================\n",
       "                    coef    std err          t      P>|t|      [0.025      0.975]\n",
       "---------------------------------------------------------------------------------\n",
       "const             0.0003      0.000      1.331      0.183      -0.000       0.001\n",
       "Delta_VIX_lag     0.0006      0.000      4.743      0.000       0.000       0.001\n",
       "==============================================================================\n",
       "Omnibus:                      500.015   Durbin-Watson:                   2.064\n",
       "Prob(Omnibus):                  0.000   Jarque-Bera (JB):            13580.762\n",
       "Skew:                          -0.208   Prob(JB):                         0.00\n",
       "Kurtosis:                      14.374   Cond. No.                         1.97\n",
       "==============================================================================\n",
       "\n",
       "Warnings:\n",
       "[1] Standard Errors assume that the covariance matrix of the errors is correctly specified.\n",
       "\"\"\""
      ]
     },
     "execution_count": 123,
     "metadata": {},
     "output_type": "execute_result"
    },
    {
     "data": {
      "image/png": "[encoded data removed]",
      "text/plain": [
       "<matplotlib.figure.Figure at 0x7fd9b953d0b8>"
      ]
     },
     "metadata": {},
     "output_type": "display_data"
    }
   ],
   "source": [
    "vix['Delta_VIX_lag'] = vix['Delta_VIX'].shift(1)\n",
    "vix = vix.iloc[1:len(vix)]\n",
    "\n",
    "Y = vix['SP500_ret']\n",
    "X = vix['Delta_VIX_lag']\n",
    "graph.regplot(X,Y).set_title(\"SP500 Returns Regressed on Change in VIX\")\n",
    "\n",
    "X = sm.add_constant(X)\n",
    "ols_model = sm.OLS(Y,X)\n",
    "results = ols_model.fit()\n",
    "results.summary()"
   ]
  },
  {
   "cell_type": "markdown",
   "metadata": {},
   "source": [
    "While this is not the most exciting result in the sense that the 1-day lagged change in the VIX does NOT predict next day returns very well, it is an interesting result nonetheless. We notice that a large change in the VIX one day does not strongly explain the return of the next day (we will look more at outliers and their importance / lack of importance in just a bit).\n",
    "\n",
    "These results can be interesting when applied intuitively. We have seen that there is a strong negative relationship between Delta_VIX and the stock market on any given day. We have also seen that a large change in the VIX, on average, does not explain a large portion of the following days return variability.\n",
    "\n",
    "What if we believe the stock market will go up over the next year? This analysis WOULD NOT help us explicitly with that prediction but it WOULD help us think about efficient times to buy.\n",
    "\n",
    "I will soon explore how trading after large changes in the VIX in one day will perform __over time periods significantly longer than a day__.\n",
    "\n",
    "First I want to use a Vector Autoregressive model to look at the VIX SP500 relationship in the context of autocorrelation."
   ]
  },
  {
   "cell_type": "code",
   "execution_count": 41,
   "metadata": {},
   "outputs": [],
   "source": [
    "%%capture \n",
    "from statsmodels.tsa.vector_ar import var_model as var\n",
    "\n",
    "var_xy = vix[['SP500_ret','Delta_VIX']]\n",
    "var_xy.index = p.to_datetime(var_xy.index)\n",
    "var_model = var.VAR(var_xy)\n",
    "var_res = var_model.fit(5)"
   ]
  },
  {
   "cell_type": "code",
   "execution_count": 39,
   "metadata": {},
   "outputs": [
    {
     "data": {
      "text/plain": [
       "  Summary of Regression Results   \n",
       "==================================\n",
       "Model:                         VAR\n",
       "Method:                        OLS\n",
       "Date:           Thu, 22, Feb, 2018\n",
       "Time:                     14:12:39\n",
       "--------------------------------------------------------------------\n",
       "No. of Equations:         2.00000    BIC:                   -8.53003\n",
       "Nobs:                     2510.00    HQIC:                  -8.56258\n",
       "Log likelihood:           3668.23    FPE:                0.000187615\n",
       "AIC:                     -8.58112    Det(Omega_mle):     0.000185982\n",
       "--------------------------------------------------------------------\n",
       "Results for equation SP500_ret\n",
       "===============================================================================\n",
       "                  coefficient       std. error           t-stat            prob\n",
       "-------------------------------------------------------------------------------\n",
       "const                0.000345         0.000255            1.352           0.177\n",
       "L1.SP500_ret        -0.063284         0.036016           -1.757           0.079\n",
       "L1.Delta_VIX         0.000375         0.000236            1.584           0.113\n",
       "L2.SP500_ret        -0.009143         0.036086           -0.253           0.800\n",
       "L2.Delta_VIX         0.000553         0.000237            2.328           0.020\n",
       "L3.SP500_ret         0.039479         0.035975            1.097           0.273\n",
       "L3.Delta_VIX         0.000205         0.000236            0.866           0.386\n",
       "L4.SP500_ret         0.065704         0.036025            1.824           0.068\n",
       "L4.Delta_VIX         0.000759         0.000237            3.198           0.001\n",
       "L5.SP500_ret        -0.047361         0.036637           -1.293           0.196\n",
       "L5.Delta_VIX         0.000108         0.000246            0.441           0.659\n",
       "===============================================================================\n",
       "\n",
       "Results for equation Delta_VIX\n",
       "===============================================================================\n",
       "                  coefficient       std. error           t-stat            prob\n",
       "-------------------------------------------------------------------------------\n",
       "const                0.007217         0.038967            0.185           0.853\n",
       "L1.SP500_ret        -2.521113         5.493542           -0.459           0.646\n",
       "L1.Delta_VIX        -0.159802         0.036065           -4.431           0.000\n",
       "L2.SP500_ret        -1.401136         5.504223           -0.255           0.799\n",
       "L2.Delta_VIX        -0.118052         0.036208           -3.260           0.001\n",
       "L3.SP500_ret        -5.996221         5.487248           -1.093           0.275\n",
       "L3.Delta_VIX        -0.094617         0.036059           -2.624           0.009\n",
       "L4.SP500_ret        -9.702147         5.494962           -1.766           0.078\n",
       "L4.Delta_VIX        -0.150948         0.036202           -4.170           0.000\n",
       "L5.SP500_ret         9.219401         5.588178            1.650           0.099\n",
       "L5.Delta_VIX         0.033243         0.037479            0.887           0.375\n",
       "===============================================================================\n",
       "\n",
       "Correlation matrix of residuals\n",
       "             SP500_ret  Delta_VIX\n",
       "SP500_ret     1.000000  -0.832402\n",
       "Delta_VIX    -0.832402   1.000000\n",
       "\n"
      ]
     },
     "execution_count": 39,
     "metadata": {},
     "output_type": "execute_result"
    }
   ],
   "source": [
    "var_res.summary()"
   ]
  },
  {
   "cell_type": "markdown",
   "metadata": {},
   "source": [
    "Based on this vector autoregression, which is by construction a multiple regression, it seems that when we control for autocorrelation in the SP500, a significant portion of the variablility that we previously explained by DELTA_VIX dissapears. This does not mean that there is no merit in our previous analysis (in fact, our t-stats are about the same in each case), but it is useful to know that stocks exhibit negative short term autocorrelation - and that this autocorrelation explains a similar portion of the variablility of SP500 returns as our previous analysis. __Edit: it is important to notice here that Delta_VIX is autocorrelated with significance at lags 1,2,3 and 4.  Also Delta_VIX is weirdly significant at lag 4 as a predictior of SP500 return__ \n",
    "\n",
    "Please also note that it is conventional to test for stationarity using a test such as adfuller when using vector autoregression. Both SP500 __returns__ (not price level) and Delta_VIX are stationary processes with strong signifiance so they meet the assumptions of our model.\n",
    "\n",
    "Next I want to look into whether longer term return of the SP500 is associated with a 1 day change in the VIX. To do this, I will calculate rolling intervals of return after each daily change in the VIX (Delta_VIX). More specifically, I will look at the yearly return following a 1 day change in the VIX. I also want to condition on extreme cases to determine if we can time trade entry. It does not make sense to windsorize Delta_VIX values as extreme values are the most important in determining if we can time trade entry.\n",
    "\n",
    "I will look at the top and bottom two percent of Delta_VIX days __based on a trailing rolling percentile window to avoid data snooping__ to see how they predict return over the following year. To reiterate, the top 2 percent will be the days with the largest increase in the VIX level, and the bottom 2 percent will be the days with the largest decrease in the VIX level."
   ]
  },
  {
   "cell_type": "code",
   "execution_count": 125,
   "metadata": {},
   "outputs": [],
   "source": [
    "%%capture\n",
    "import numpy as np\n",
    "\n",
    "vix['252_Day_ret'] = vix['SP500']/vix['SP500'].shift(252)-1\n",
    "vix['Delta_vix_t-252'] = vix['Delta_VIX'].shift(252)\n",
    "\n",
    "to_label = list(range(1,51))\n",
    "vix['Rolling_Percentile'] = p.rolling_apply(vix['Delta_vix_t-252'],252,lambda x: p.qcut(x,50,labels=to_label)[49])\n",
    "\n",
    "top2percent = vix.loc[vix['Rolling_Percentile']==50]\n",
    "bottom2percent = vix.loc[vix['Rolling_Percentile']==1]"
   ]
  },
  {
   "cell_type": "code",
   "execution_count": 126,
   "metadata": {},
   "outputs": [
    {
     "name": "stdout",
     "output_type": "stream",
     "text": [
      "Mean of 252-day returns for top 2 percent = 0.1253783900774361\n",
      "SD of 252-day returns for top 2 percent = 0.0788641352421376\n",
      "Mean of 252-day returns for bottom 2 percent = 0.12683122648941644\n",
      "SD of 252-day returns for bottom 2 percent = 0.06415415920393208\n",
      "Mean of 252-day returns for any day in samlple = 0.10375008082764262\n",
      "SD of 252-day returns for any day in samlple = 0.15225327780834472\n"
     ]
    }
   ],
   "source": [
    "print(\"Mean of 252-day returns for top 2 percent = %s\" % np.mean(top2percent['252_Day_ret']))\n",
    "print(\"SD of 252-day returns for top 2 percent = %s\" % np.std(top2percent['252_Day_ret']))\n",
    "\n",
    "print(\"Mean of 252-day returns for bottom 2 percent = %s\" % np.mean(bottom2percent['252_Day_ret']))\n",
    "print(\"SD of 252-day returns for bottom 2 percent = %s\" % np.std(bottom2percent['252_Day_ret']))\n",
    "\n",
    "print(\"Mean of 252-day returns for any day in samlple = %s\" % np.mean(vix['252_Day_ret']))\n",
    "print(\"SD of 252-day returns for any day in samlple = %s\" % np.std(vix['252_Day_ret']))"
   ]
  },
  {
   "cell_type": "markdown",
   "metadata": {},
   "source": [
    "This is interesting, not exactly the result I was expecting but also not a bad result either as we can see we are clearly outperforming just blindly buying stocks at any point in time. I think, intuitively, that using a 1 day time horizon to time trades is too short due to the nature of volatility. Delta_VIX is autocorreltated, as we have seen before, and any sort of volatility model (such as GARCH) takes notice of this autocorrelation in an effort to predict volatility. \n",
    "\n",
    "It was unexpected that the bottom 2 percent performed just as well as the top 2 percent. This makes me think that the driver is the standard deviation of the VIX, not the mean of the VIX. This actually makes intuitive sense and I will return to this later.\n",
    "\n",
    "The next step here is to get rid of this short term autocorrelation so it does not affect our results. To do this, I will extend my 1 day Delta_VIX calculation as a predictor of yearly SP500 return. To determine how much to extend, I will look at the partial autocorrelation of the Delta_VIX:"
   ]
  },
  {
   "cell_type": "code",
   "execution_count": 101,
   "metadata": {},
   "outputs": [
    {
     "data": {
      "image/png": "[encoded data removed]",
      "text/plain": [
       "<matplotlib.figure.Figure at 0x7fd9b9545780>"
      ]
     },
     "metadata": {},
     "output_type": "display_data"
    }
   ],
   "source": [
    "from statsmodels.graphics import tsaplots\n",
    "out1 = plot_pacf(vix['Delta_VIX'],lags=40)"
   ]
  },
  {
   "cell_type": "markdown",
   "metadata": {},
   "source": [
    "Looking at this PACF, the lag values that make the most intuitive sense are 4,7,29 and 34. It makes sense fundamentally to use these values, as when a market overreacts and sells off, it typically does so over the course of several days or weeks or even months. The market fit does not happen all in one day. Now, when we run our analysis, instead of looking at the 1 day Delta_VIX, lets look at the 21 day Delta_VIX. I choose 21 here for more intuitive reasons than statistical ones. I think looking at 4-7 days as a predictor of a year out is a bit too short. We don't say Apple stock is doomed after 1 bad day.  After bad month, however, it starts to garner more attention."
   ]
  },
  {
   "cell_type": "code",
   "execution_count": 127,
   "metadata": {},
   "outputs": [],
   "source": [
    "%%capture\n",
    "vix['21day_Delta_VIX'] = vix['VIX'] - vix['VIX'].shift(21)\n",
    "vix['21day_Delta_vix_t-252'] = vix['21day_Delta_VIX'].shift(252)\n",
    "\n",
    "vix['21Day_Rolling_Percentile'] = p.rolling_apply(vix['21day_Delta_vix_t-252'],252,lambda x: p.qcut(x,50,labels=to_label)[49])\n",
    "\n",
    "top2percent_21Day = vix.loc[vix['21Day_Rolling_Percentile']==50]\n",
    "bottom2percent_21Day = vix.loc[vix['21Day_Rolling_Percentile']==1]"
   ]
  },
  {
   "cell_type": "code",
   "execution_count": 128,
   "metadata": {},
   "outputs": [
    {
     "name": "stdout",
     "output_type": "stream",
     "text": [
      "21 Day Window: Mean of 252-day returns for top 2 percent = 0.1369056976091045\n",
      "21 Day Window: SD of 252-day returns for top 2 percent = 0.06518229999597382\n",
      "21 Day Window: Mean of 252-day returns for bottom 2 percent = 0.12084205539501752\n",
      "21 Day Window: SD of 252-day returns for bottom 2 percent = 0.06219130773752717\n",
      "Mean of 252-day returns for any day in samlple = 0.10375008082764262\n",
      "SD of 252-day returns for any day in samlple = 0.15225327780834472\n"
     ]
    }
   ],
   "source": [
    "print(\"21 Day Window: Mean of 252-day returns for top 2 percent = %s\" % np.mean(top2percent_21Day['252_Day_ret']))\n",
    "print(\"21 Day Window: SD of 252-day returns for top 2 percent = %s\" % np.std(top2percent_21Day['252_Day_ret']))\n",
    "\n",
    "print(\"21 Day Window: Mean of 252-day returns for bottom 2 percent = %s\" % np.mean(bottom2percent_21Day['252_Day_ret']))\n",
    "print(\"21 Day Window: SD of 252-day returns for bottom 2 percent = %s\" % np.std(bottom2percent_21Day['252_Day_ret']))\n",
    "\n",
    "print(\"Mean of 252-day returns for any day in samlple = %s\" % np.mean(vix['252_Day_ret']))\n",
    "print(\"SD of 252-day returns for any day in samlple = %s\" % np.std(vix['252_Day_ret']))"
   ]
  },
  {
   "cell_type": "markdown",
   "metadata": {},
   "source": [
    "Not bad, we squeezed another 1.4% on average out of our top 2 percent, which is what we set out to analyze. Once again, our bottom two percent is performing well above blindly buying the market. Next steps will be to look at SD of VIX, possibly experiment with other time frames besides just 21 days, and definitely look at idiosyncratic movement. FX short term volume signal is also in the works. "
   ]
  }
 ],
 "metadata": {
  "kernelspec": {
   "display_name": "Python 3",
   "language": "python",
   "name": "python3"
  },
  "language_info": {
   "codemirror_mode": {
    "name": "ipython",
    "version": 3
   },
   "file_extension": ".py",
   "mimetype": "text/x-python",
   "name": "python",
   "nbconvert_exporter": "python",
   "pygments_lexer": "ipython3",
   "version": "3.6.4"
  }
 },
 "nbformat": 4,
 "nbformat_minor": 2
}
